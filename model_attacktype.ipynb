{
 "cells": [
  {
   "cell_type": "markdown",
   "metadata": {},
   "source": [
    "### Predict Attack Type ###"
   ]
  },
  {
   "cell_type": "code",
   "execution_count": 2,
   "metadata": {
    "collapsed": false
   },
   "outputs": [
    {
     "name": "stderr",
     "output_type": "stream",
     "text": [
      "Using TensorFlow backend.\n"
     ]
    }
   ],
   "source": [
    "import numpy\n",
    "import pandas\n",
    "from keras.models import Sequential\n",
    "from keras.layers import Dense\n",
    "from keras.wrappers.scikit_learn import KerasClassifier\n",
    "from keras.utils import np_utils\n",
    "from sklearn.model_selection import cross_val_score\n",
    "from sklearn.model_selection import KFold\n",
    "from sklearn.preprocessing import LabelEncoder\n",
    "from sklearn.pipeline import Pipeline"
   ]
  },
  {
   "cell_type": "code",
   "execution_count": 3,
   "metadata": {
    "collapsed": true
   },
   "outputs": [],
   "source": [
    "# fix random seed for reproducibility\n",
    "seed = 7\n",
    "numpy.random.seed(seed)"
   ]
  },
  {
   "cell_type": "code",
   "execution_count": 4,
   "metadata": {
    "collapsed": false
   },
   "outputs": [],
   "source": [
    "# load dataset\n",
    "dataframe = pandas.read_csv(\"input_attacktype.csv\", header=None)\n",
    "#dataframe = pandas.read_csv(\"test.csv\", header=None)\n",
    "dataframe = dataframe.dropna()\n",
    "dataset = dataframe.values\n",
    "X = dataset[:,0:4].astype(float)\n",
    "Y = dataset[:,4]"
   ]
  },
  {
   "cell_type": "code",
   "execution_count": 5,
   "metadata": {
    "collapsed": false
   },
   "outputs": [
    {
     "data": {
      "text/plain": [
       "(171378, 5)"
      ]
     },
     "execution_count": 5,
     "metadata": {},
     "output_type": "execute_result"
    }
   ],
   "source": [
    "dataset.shape"
   ]
  },
  {
   "cell_type": "code",
   "execution_count": 6,
   "metadata": {
    "collapsed": false
   },
   "outputs": [
    {
     "name": "stdout",
     "output_type": "stream",
     "text": [
      "[[7 47 1 1.0 'Assassination']\n",
      " [0 116 6 0.0 'Hostage Taking (Kidnapping)']\n",
      " [1 140 9 1.0 'Assassination']\n",
      " ..., \n",
      " [12 140 9 0.0 'Facility/Infrastructure Attack']\n",
      " [12 80 8 0.0 'Bombing/Explosion']\n",
      " [12 140 9 0.0 'Bombing/Explosion']]\n"
     ]
    }
   ],
   "source": [
    "print(dataset)"
   ]
  },
  {
   "cell_type": "code",
   "execution_count": 7,
   "metadata": {
    "collapsed": true
   },
   "outputs": [],
   "source": [
    "# encode class values as integers\n",
    "encoder = LabelEncoder()\n",
    "encoder.fit(Y)\n",
    "encoded_Y = encoder.transform(Y)\n",
    "# convert integers to dummy variables (i.e. one hot encoded)\n",
    "dummy_y = np_utils.to_categorical(encoded_Y)"
   ]
  },
  {
   "cell_type": "code",
   "execution_count": 18,
   "metadata": {
    "collapsed": false
   },
   "outputs": [
    {
     "name": "stdout",
     "output_type": "stream",
     "text": [
      "[[ 0.  1.  0. ...,  0.  0.  0.]\n",
      " [ 0.  0.  0. ...,  1.  0.  0.]\n",
      " [ 0.  1.  0. ...,  0.  0.  0.]\n",
      " ..., \n",
      " [ 0.  0.  0. ...,  0.  0.  0.]\n",
      " [ 0.  0.  1. ...,  0.  0.  0.]\n",
      " [ 0.  0.  1. ...,  0.  0.  0.]]\n"
     ]
    }
   ],
   "source": [
    "print(dummy_y)"
   ]
  },
  {
   "cell_type": "code",
   "execution_count": 8,
   "metadata": {
    "collapsed": false
   },
   "outputs": [
    {
     "data": {
      "text/plain": [
       "(171378, 4)"
      ]
     },
     "execution_count": 8,
     "metadata": {},
     "output_type": "execute_result"
    }
   ],
   "source": [
    "X.shape"
   ]
  },
  {
   "cell_type": "code",
   "execution_count": 9,
   "metadata": {
    "collapsed": false
   },
   "outputs": [
    {
     "data": {
      "text/plain": [
       "(171378, 9)"
      ]
     },
     "execution_count": 9,
     "metadata": {},
     "output_type": "execute_result"
    }
   ],
   "source": [
    "dummy_y.shape"
   ]
  },
  {
   "cell_type": "code",
   "execution_count": 10,
   "metadata": {
    "collapsed": true
   },
   "outputs": [],
   "source": [
    "from sklearn.model_selection import train_test_split\n",
    "X_train, X_test, y_train, y_test = train_test_split(X, dummy_y, test_size=0.2)"
   ]
  },
  {
   "cell_type": "code",
   "execution_count": 11,
   "metadata": {
    "collapsed": false
   },
   "outputs": [
    {
     "data": {
      "text/plain": [
       "(137102, 4)"
      ]
     },
     "execution_count": 11,
     "metadata": {},
     "output_type": "execute_result"
    }
   ],
   "source": [
    "X_train.shape"
   ]
  },
  {
   "cell_type": "code",
   "execution_count": 12,
   "metadata": {
    "collapsed": false
   },
   "outputs": [
    {
     "data": {
      "text/plain": [
       "(137102, 9)"
      ]
     },
     "execution_count": 12,
     "metadata": {},
     "output_type": "execute_result"
    }
   ],
   "source": [
    "y_train.shape"
   ]
  },
  {
   "cell_type": "code",
   "execution_count": 13,
   "metadata": {
    "collapsed": false
   },
   "outputs": [
    {
     "data": {
      "text/plain": [
       "(34276, 4)"
      ]
     },
     "execution_count": 13,
     "metadata": {},
     "output_type": "execute_result"
    }
   ],
   "source": [
    "X_test.shape"
   ]
  },
  {
   "cell_type": "code",
   "execution_count": 14,
   "metadata": {
    "collapsed": false
   },
   "outputs": [
    {
     "data": {
      "text/plain": [
       "(34276, 9)"
      ]
     },
     "execution_count": 14,
     "metadata": {},
     "output_type": "execute_result"
    }
   ],
   "source": [
    "y_test.shape"
   ]
  },
  {
   "cell_type": "code",
   "execution_count": 17,
   "metadata": {
    "collapsed": false
   },
   "outputs": [
    {
     "name": "stdout",
     "output_type": "stream",
     "text": [
      "[[  12.  183.    5.    0.]\n",
      " [  11.  179.    9.    0.]\n",
      " [  10.  102.    5.    1.]\n",
      " ..., \n",
      " [  11.   52.    1.    2.]\n",
      " [   3.   35.    7.    0.]\n",
      " [   2.  134.    8.    8.]] [[ 0.  0.  1. ...,  0.  0.  0.]\n",
      " [ 1.  0.  0. ...,  0.  0.  0.]\n",
      " [ 1.  0.  0. ...,  0.  0.  0.]\n",
      " ..., \n",
      " [ 0.  1.  0. ...,  0.  0.  0.]\n",
      " [ 0.  0.  0. ...,  1.  0.  0.]\n",
      " [ 1.  0.  0. ...,  0.  0.  0.]]\n"
     ]
    }
   ],
   "source": [
    "print(X_train,\n",
    "      y_train)"
   ]
  },
  {
   "cell_type": "code",
   "execution_count": 15,
   "metadata": {
    "collapsed": false
   },
   "outputs": [],
   "source": [
    "# create model\n",
    "model = Sequential()\n",
    "model.add(Dense(10, input_dim=4, activation='relu'))\n",
    "model.add(Dense(20,activation='relu'))\n",
    "model.add(Dense(9, activation='softmax'))"
   ]
  },
  {
   "cell_type": "code",
   "execution_count": 16,
   "metadata": {
    "collapsed": false
   },
   "outputs": [],
   "source": [
    "# Compile model\n",
    "model.compile(loss='categorical_crossentropy', optimizer='adam', metrics=['accuracy'])"
   ]
  },
  {
   "cell_type": "code",
   "execution_count": 17,
   "metadata": {
    "collapsed": false
   },
   "outputs": [
    {
     "name": "stdout",
     "output_type": "stream",
     "text": [
      "Epoch 1/20\n",
      "137102/137102 [==============================] - 2s - loss: 2.2731 - acc: 0.4561     \n",
      "Epoch 2/20\n",
      "137102/137102 [==============================] - 2s - loss: 1.4440 - acc: 0.4943     \n",
      "Epoch 3/20\n",
      "137102/137102 [==============================] - 3s - loss: 1.3879 - acc: 0.5077     \n",
      "Epoch 4/20\n",
      "137102/137102 [==============================] - 3s - loss: 1.3622 - acc: 0.5178     \n",
      "Epoch 5/20\n",
      "137102/137102 [==============================] - 2s - loss: 1.3519 - acc: 0.5195     \n",
      "Epoch 6/20\n",
      "137102/137102 [==============================] - 2s - loss: 1.3445 - acc: 0.5215     \n",
      "Epoch 7/20\n",
      "137102/137102 [==============================] - 3s - loss: 1.3404 - acc: 0.5243     \n",
      "Epoch 8/20\n",
      "137102/137102 [==============================] - 2s - loss: 1.3387 - acc: 0.5227     \n",
      "Epoch 9/20\n",
      "137102/137102 [==============================] - 2s - loss: 1.3339 - acc: 0.5230     \n",
      "Epoch 10/20\n",
      "137102/137102 [==============================] - 2s - loss: 1.3295 - acc: 0.5258     \n",
      "Epoch 11/20\n",
      "137102/137102 [==============================] - 2s - loss: 1.3292 - acc: 0.5257     \n",
      "Epoch 12/20\n",
      "137102/137102 [==============================] - 2s - loss: 1.3252 - acc: 0.5269     \n",
      "Epoch 13/20\n",
      "137102/137102 [==============================] - 2s - loss: 1.3215 - acc: 0.5309     \n",
      "Epoch 14/20\n",
      "137102/137102 [==============================] - 2s - loss: 1.3183 - acc: 0.5328     \n",
      "Epoch 15/20\n",
      "137102/137102 [==============================] - 2s - loss: 1.3130 - acc: 0.5348     \n",
      "Epoch 16/20\n",
      "137102/137102 [==============================] - 2s - loss: 1.3087 - acc: 0.5380     \n",
      "Epoch 17/20\n",
      "137102/137102 [==============================] - 2s - loss: 1.3069 - acc: 0.5400     \n",
      "Epoch 18/20\n",
      "137102/137102 [==============================] - 2s - loss: 1.3016 - acc: 0.5419     \n",
      "Epoch 19/20\n",
      "137102/137102 [==============================] - 2s - loss: 1.3003 - acc: 0.5423     \n",
      "Epoch 20/20\n",
      "137102/137102 [==============================] - 2s - loss: 1.2984 - acc: 0.5418     \n"
     ]
    },
    {
     "data": {
      "text/plain": [
       "<keras.callbacks.History at 0x7f7235f7eb70>"
      ]
     },
     "execution_count": 17,
     "metadata": {},
     "output_type": "execute_result"
    }
   ],
   "source": [
    "model.fit(X_train,y_train,epochs=20,batch_size=100)"
   ]
  },
  {
   "cell_type": "code",
   "execution_count": 18,
   "metadata": {
    "collapsed": false
   },
   "outputs": [
    {
     "name": "stdout",
     "output_type": "stream",
     "text": [
      "Test loss: 1.2938666911\n",
      "Test accuracy: 0.551843855759\n"
     ]
    }
   ],
   "source": [
    "score = model.evaluate(X_test,y_test, verbose=0)\n",
    "print('Test loss:', score[0])\n",
    "print('Test accuracy:', score[1])"
   ]
  },
  {
   "cell_type": "code",
   "execution_count": 19,
   "metadata": {
    "collapsed": false
   },
   "outputs": [],
   "source": [
    "from keras.layers import Dropout\n",
    "# create model 2\n",
    "model = Sequential()\n",
    "model.add(Dense(10, input_dim=4, activation='relu'))\n",
    "model.add(Dropout(0.05))\n",
    "model.add(Dense(30,activation='relu'))\n",
    "model.add(Dropout(0.1))\n",
    "model.add(Dense(30,activation='relu'))\n",
    "model.add(Dropout(0.05))\n",
    "model.add(Dense(9, activation='softmax'))"
   ]
  },
  {
   "cell_type": "code",
   "execution_count": 20,
   "metadata": {
    "collapsed": false
   },
   "outputs": [
    {
     "name": "stdout",
     "output_type": "stream",
     "text": [
      "_________________________________________________________________\n",
      "Layer (type)                 Output Shape              Param #   \n",
      "=================================================================\n",
      "dense_4 (Dense)              (None, 10)                50        \n",
      "_________________________________________________________________\n",
      "dropout_1 (Dropout)          (None, 10)                0         \n",
      "_________________________________________________________________\n",
      "dense_5 (Dense)              (None, 30)                330       \n",
      "_________________________________________________________________\n",
      "dropout_2 (Dropout)          (None, 30)                0         \n",
      "_________________________________________________________________\n",
      "dense_6 (Dense)              (None, 30)                930       \n",
      "_________________________________________________________________\n",
      "dropout_3 (Dropout)          (None, 30)                0         \n",
      "_________________________________________________________________\n",
      "dense_7 (Dense)              (None, 9)                 279       \n",
      "=================================================================\n",
      "Total params: 1,589\n",
      "Trainable params: 1,589\n",
      "Non-trainable params: 0\n",
      "_________________________________________________________________\n"
     ]
    }
   ],
   "source": [
    "model.summary()"
   ]
  },
  {
   "cell_type": "code",
   "execution_count": 21,
   "metadata": {
    "collapsed": false
   },
   "outputs": [],
   "source": [
    "model.compile(loss='categorical_crossentropy',optimizer='adam',metrics=['accuracy'])"
   ]
  },
  {
   "cell_type": "code",
   "execution_count": 22,
   "metadata": {
    "collapsed": false
   },
   "outputs": [
    {
     "name": "stdout",
     "output_type": "stream",
     "text": [
      "Epoch 1/100\n",
      "137102/137102 [==============================] - 3s - loss: 1.7214 - acc: 0.4633     \n",
      "Epoch 2/100\n",
      "137102/137102 [==============================] - 3s - loss: 1.4328 - acc: 0.4917     \n",
      "Epoch 3/100\n",
      "137102/137102 [==============================] - 3s - loss: 1.3728 - acc: 0.4979     \n",
      "Epoch 4/100\n",
      "137102/137102 [==============================] - 3s - loss: 1.3472 - acc: 0.5079     \n",
      "Epoch 5/100\n",
      "137102/137102 [==============================] - 3s - loss: 1.3351 - acc: 0.5142     \n",
      "Epoch 6/100\n",
      "137102/137102 [==============================] - 3s - loss: 1.3248 - acc: 0.5239     \n",
      "Epoch 7/100\n",
      "137102/137102 [==============================] - 3s - loss: 1.3154 - acc: 0.5302     \n",
      "Epoch 8/100\n",
      "137102/137102 [==============================] - 3s - loss: 1.3100 - acc: 0.5345     \n",
      "Epoch 9/100\n",
      "137102/137102 [==============================] - 3s - loss: 1.3054 - acc: 0.5391     \n",
      "Epoch 10/100\n",
      "137102/137102 [==============================] - 3s - loss: 1.3006 - acc: 0.5417     \n",
      "Epoch 11/100\n",
      "137102/137102 [==============================] - 3s - loss: 1.2983 - acc: 0.5422     \n",
      "Epoch 12/100\n",
      "137102/137102 [==============================] - 3s - loss: 1.2959 - acc: 0.5436     \n",
      "Epoch 13/100\n",
      "137102/137102 [==============================] - 3s - loss: 1.2944 - acc: 0.5443     \n",
      "Epoch 14/100\n",
      "137102/137102 [==============================] - 3s - loss: 1.2925 - acc: 0.5446     \n",
      "Epoch 15/100\n",
      "137102/137102 [==============================] - 3s - loss: 1.2901 - acc: 0.5470     \n",
      "Epoch 16/100\n",
      "137102/137102 [==============================] - 3s - loss: 1.2894 - acc: 0.5469     \n",
      "Epoch 17/100\n",
      "137102/137102 [==============================] - 3s - loss: 1.2877 - acc: 0.5474     \n",
      "Epoch 18/100\n",
      "137102/137102 [==============================] - 3s - loss: 1.2870 - acc: 0.5476     \n",
      "Epoch 19/100\n",
      "137102/137102 [==============================] - 3s - loss: 1.2862 - acc: 0.5490     \n",
      "Epoch 20/100\n",
      "137102/137102 [==============================] - 4s - loss: 1.2858 - acc: 0.5479     \n",
      "Epoch 21/100\n",
      "137102/137102 [==============================] - 3s - loss: 1.2847 - acc: 0.5497     \n",
      "Epoch 22/100\n",
      "137102/137102 [==============================] - 3s - loss: 1.2831 - acc: 0.5506     \n",
      "Epoch 23/100\n",
      "137102/137102 [==============================] - 3s - loss: 1.2837 - acc: 0.5496     \n",
      "Epoch 24/100\n",
      "137102/137102 [==============================] - 3s - loss: 1.2824 - acc: 0.5515     \n",
      "Epoch 25/100\n",
      "137102/137102 [==============================] - 3s - loss: 1.2838 - acc: 0.5502     \n",
      "Epoch 26/100\n",
      "137102/137102 [==============================] - 3s - loss: 1.2811 - acc: 0.5515     \n",
      "Epoch 27/100\n",
      "137102/137102 [==============================] - 3s - loss: 1.2815 - acc: 0.5502     \n",
      "Epoch 28/100\n",
      "137102/137102 [==============================] - 3s - loss: 1.2798 - acc: 0.5505     \n",
      "Epoch 29/100\n",
      "137102/137102 [==============================] - 3s - loss: 1.2789 - acc: 0.5516     \n",
      "Epoch 30/100\n",
      "137102/137102 [==============================] - 3s - loss: 1.2789 - acc: 0.5520     \n",
      "Epoch 31/100\n",
      "137102/137102 [==============================] - 3s - loss: 1.2780 - acc: 0.5515     \n",
      "Epoch 32/100\n",
      "137102/137102 [==============================] - 3s - loss: 1.2782 - acc: 0.5523     \n",
      "Epoch 33/100\n",
      "137102/137102 [==============================] - 3s - loss: 1.2784 - acc: 0.5512     \n",
      "Epoch 34/100\n",
      "137102/137102 [==============================] - 3s - loss: 1.2765 - acc: 0.5530     \n",
      "Epoch 35/100\n",
      "137102/137102 [==============================] - 3s - loss: 1.2771 - acc: 0.5520     \n",
      "Epoch 36/100\n",
      "137102/137102 [==============================] - 3s - loss: 1.2760 - acc: 0.5527     \n",
      "Epoch 37/100\n",
      "137102/137102 [==============================] - 2s - loss: 1.2762 - acc: 0.5525     \n",
      "Epoch 38/100\n",
      "137102/137102 [==============================] - 3s - loss: 1.2758 - acc: 0.5529     \n",
      "Epoch 39/100\n",
      "137102/137102 [==============================] - 3s - loss: 1.2757 - acc: 0.5540     \n",
      "Epoch 40/100\n",
      "137102/137102 [==============================] - 3s - loss: 1.2746 - acc: 0.5535     \n",
      "Epoch 41/100\n",
      "137102/137102 [==============================] - 3s - loss: 1.2733 - acc: 0.5540     \n",
      "Epoch 42/100\n",
      "137102/137102 [==============================] - 3s - loss: 1.2741 - acc: 0.5539     \n",
      "Epoch 43/100\n",
      "137102/137102 [==============================] - 3s - loss: 1.2743 - acc: 0.5542     \n",
      "Epoch 44/100\n",
      "137102/137102 [==============================] - 3s - loss: 1.2738 - acc: 0.5549     \n",
      "Epoch 45/100\n",
      "137102/137102 [==============================] - 3s - loss: 1.2733 - acc: 0.5547     \n",
      "Epoch 46/100\n",
      "137102/137102 [==============================] - 3s - loss: 1.2722 - acc: 0.5553     \n",
      "Epoch 47/100\n",
      "137102/137102 [==============================] - 3s - loss: 1.2734 - acc: 0.5550     \n",
      "Epoch 48/100\n",
      "137102/137102 [==============================] - 3s - loss: 1.2726 - acc: 0.5550     \n",
      "Epoch 49/100\n",
      "137102/137102 [==============================] - 3s - loss: 1.2728 - acc: 0.5558     \n",
      "Epoch 50/100\n",
      "137102/137102 [==============================] - 3s - loss: 1.2719 - acc: 0.5562     \n",
      "Epoch 51/100\n",
      "137102/137102 [==============================] - 3s - loss: 1.2713 - acc: 0.5562     \n",
      "Epoch 52/100\n",
      "137102/137102 [==============================] - 3s - loss: 1.2715 - acc: 0.5554     \n",
      "Epoch 53/100\n",
      "137102/137102 [==============================] - 3s - loss: 1.2711 - acc: 0.5564     \n",
      "Epoch 54/100\n",
      "137102/137102 [==============================] - 2s - loss: 1.2712 - acc: 0.5553     \n",
      "Epoch 55/100\n",
      "137102/137102 [==============================] - 3s - loss: 1.2704 - acc: 0.5560     \n",
      "Epoch 56/100\n",
      "137102/137102 [==============================] - 3s - loss: 1.2709 - acc: 0.5564     \n",
      "Epoch 57/100\n",
      "137102/137102 [==============================] - 3s - loss: 1.2710 - acc: 0.5565     \n",
      "Epoch 58/100\n",
      "137102/137102 [==============================] - 3s - loss: 1.2692 - acc: 0.5560     \n",
      "Epoch 59/100\n",
      "137102/137102 [==============================] - 3s - loss: 1.2698 - acc: 0.5571     \n",
      "Epoch 60/100\n",
      "137102/137102 [==============================] - 3s - loss: 1.2703 - acc: 0.5577     \n",
      "Epoch 61/100\n",
      "137102/137102 [==============================] - 3s - loss: 1.2697 - acc: 0.5575     \n",
      "Epoch 62/100\n",
      "137102/137102 [==============================] - 3s - loss: 1.2692 - acc: 0.5571     \n",
      "Epoch 63/100\n",
      "137102/137102 [==============================] - 3s - loss: 1.2695 - acc: 0.5569     \n",
      "Epoch 64/100\n",
      "137102/137102 [==============================] - 3s - loss: 1.2691 - acc: 0.5571     \n",
      "Epoch 65/100\n",
      "137102/137102 [==============================] - 3s - loss: 1.2681 - acc: 0.5579     \n",
      "Epoch 66/100\n",
      "137102/137102 [==============================] - 3s - loss: 1.2687 - acc: 0.5570     \n",
      "Epoch 67/100\n",
      "137102/137102 [==============================] - 3s - loss: 1.2697 - acc: 0.5559     \n",
      "Epoch 68/100\n",
      "137102/137102 [==============================] - 3s - loss: 1.2699 - acc: 0.5571     \n",
      "Epoch 69/100\n",
      "137102/137102 [==============================] - 3s - loss: 1.2687 - acc: 0.5575     \n",
      "Epoch 70/100\n",
      "137102/137102 [==============================] - 3s - loss: 1.2691 - acc: 0.5576     \n",
      "Epoch 71/100\n",
      "137102/137102 [==============================] - 3s - loss: 1.2689 - acc: 0.5575     \n",
      "Epoch 72/100\n",
      "137102/137102 [==============================] - 3s - loss: 1.2678 - acc: 0.5584     \n",
      "Epoch 73/100\n",
      "137102/137102 [==============================] - 3s - loss: 1.2678 - acc: 0.5576     \n",
      "Epoch 74/100\n",
      "137102/137102 [==============================] - 3s - loss: 1.2679 - acc: 0.5574     \n",
      "Epoch 75/100\n",
      "137102/137102 [==============================] - 3s - loss: 1.2685 - acc: 0.5587     \n",
      "Epoch 76/100\n",
      "137102/137102 [==============================] - 3s - loss: 1.2681 - acc: 0.5587     \n",
      "Epoch 77/100\n",
      "137102/137102 [==============================] - 3s - loss: 1.2667 - acc: 0.5591     \n",
      "Epoch 78/100\n",
      "137102/137102 [==============================] - 3s - loss: 1.2676 - acc: 0.5587     \n",
      "Epoch 79/100\n",
      "137102/137102 [==============================] - 3s - loss: 1.2666 - acc: 0.5580     \n",
      "Epoch 80/100\n",
      "137102/137102 [==============================] - 3s - loss: 1.2676 - acc: 0.5578     \n",
      "Epoch 81/100\n",
      "137102/137102 [==============================] - 3s - loss: 1.2668 - acc: 0.5586     \n",
      "Epoch 82/100\n",
      "137102/137102 [==============================] - 3s - loss: 1.2664 - acc: 0.5589     \n",
      "Epoch 83/100\n",
      "137102/137102 [==============================] - 3s - loss: 1.2673 - acc: 0.5585     \n",
      "Epoch 84/100\n",
      "137102/137102 [==============================] - 3s - loss: 1.2667 - acc: 0.5586     \n",
      "Epoch 85/100\n",
      "137102/137102 [==============================] - 3s - loss: 1.2669 - acc: 0.5591     \n",
      "Epoch 86/100\n",
      "137102/137102 [==============================] - 3s - loss: 1.2663 - acc: 0.5597     \n",
      "Epoch 87/100\n",
      "137102/137102 [==============================] - 3s - loss: 1.2700 - acc: 0.5575     \n",
      "Epoch 88/100\n",
      "137102/137102 [==============================] - 3s - loss: 1.2669 - acc: 0.5584     \n",
      "Epoch 89/100\n",
      "137102/137102 [==============================] - 3s - loss: 1.2663 - acc: 0.5579     \n",
      "Epoch 90/100\n",
      "137102/137102 [==============================] - 3s - loss: 1.2673 - acc: 0.5574     \n",
      "Epoch 91/100\n",
      "137102/137102 [==============================] - 3s - loss: 1.2669 - acc: 0.5582     \n",
      "Epoch 92/100\n",
      "137102/137102 [==============================] - 3s - loss: 1.2664 - acc: 0.5579     \n",
      "Epoch 93/100\n",
      "137102/137102 [==============================] - 3s - loss: 1.2657 - acc: 0.5584     \n",
      "Epoch 94/100\n",
      "137102/137102 [==============================] - 3s - loss: 1.2671 - acc: 0.5588     \n",
      "Epoch 95/100\n",
      "137102/137102 [==============================] - 3s - loss: 1.2661 - acc: 0.5585     \n",
      "Epoch 96/100\n",
      "137102/137102 [==============================] - 3s - loss: 1.2667 - acc: 0.5590     \n",
      "Epoch 97/100\n",
      "137102/137102 [==============================] - 3s - loss: 1.2659 - acc: 0.5584     \n",
      "Epoch 98/100\n",
      "137102/137102 [==============================] - 3s - loss: 1.2660 - acc: 0.5582     \n",
      "Epoch 99/100\n",
      "137102/137102 [==============================] - 3s - loss: 1.2663 - acc: 0.5592     \n",
      "Epoch 100/100\n",
      "137102/137102 [==============================] - 3s - loss: 1.2666 - acc: 0.5588     \n"
     ]
    }
   ],
   "source": [
    "history = model.fit(X_train,y_train,epochs=100,batch_size=100)"
   ]
  },
  {
   "cell_type": "code",
   "execution_count": 23,
   "metadata": {
    "collapsed": false
   },
   "outputs": [
    {
     "name": "stdout",
     "output_type": "stream",
     "text": [
      "Test loss: 1.24764692718\n",
      "Test accuracy: 0.573229081573\n"
     ]
    }
   ],
   "source": [
    "score = model.evaluate(X_test,y_test, verbose=0)\n",
    "print('Test loss:', score[0])\n",
    "print('Test accuracy:', score[1])"
   ]
  },
  {
   "cell_type": "code",
   "execution_count": null,
   "metadata": {
    "collapsed": true
   },
   "outputs": [],
   "source": []
  }
 ],
 "metadata": {
  "anaconda-cloud": {},
  "kernelspec": {
   "display_name": "Python 3",
   "language": "python",
   "name": "python3"
  },
  "language_info": {
   "codemirror_mode": {
    "name": "ipython",
    "version": 3
   },
   "file_extension": ".py",
   "mimetype": "text/x-python",
   "name": "python",
   "nbconvert_exporter": "python",
   "pygments_lexer": "ipython3",
   "version": "3.5.4"
  }
 },
 "nbformat": 4,
 "nbformat_minor": 1
}
