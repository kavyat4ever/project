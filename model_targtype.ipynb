{
 "cells": [
  {
   "cell_type": "code",
   "execution_count": 23,
   "metadata": {
    "collapsed": false
   },
   "outputs": [],
   "source": [
    "import numpy\n",
    "import pandas\n",
    "from keras.models import Sequential\n",
    "from keras.layers import Dense\n",
    "from keras.wrappers.scikit_learn import KerasClassifier\n",
    "from keras.utils import np_utils\n",
    "from sklearn.model_selection import cross_val_score\n",
    "from sklearn.model_selection import KFold\n",
    "from sklearn.preprocessing import LabelEncoder\n",
    "from sklearn.pipeline import Pipeline"
   ]
  },
  {
   "cell_type": "code",
   "execution_count": 24,
   "metadata": {
    "collapsed": true
   },
   "outputs": [],
   "source": [
    "# fix random seed for reproducibility\n",
    "seed = 7\n",
    "numpy.random.seed(seed)"
   ]
  },
  {
   "cell_type": "code",
   "execution_count": 25,
   "metadata": {
    "collapsed": false
   },
   "outputs": [],
   "source": [
    "# load dataset\n",
    "dataframe = pandas.read_csv(\"input_targtype.csv\", header=None)\n",
    "dataframe = dataframe.dropna()\n",
    "dataset = dataframe.values\n",
    "X = dataset[:,0:4].astype(float)\n",
    "Y = dataset[:,4]"
   ]
  },
  {
   "cell_type": "code",
   "execution_count": 26,
   "metadata": {
    "collapsed": true
   },
   "outputs": [],
   "source": [
    "# encode class values as integers\n",
    "encoder = LabelEncoder()\n",
    "encoder.fit(Y)\n",
    "encoded_Y = encoder.transform(Y)\n",
    "# convert integers to dummy variables (i.e. one hot encoded)\n",
    "dummy_y = np_utils.to_categorical(encoded_Y)"
   ]
  },
  {
   "cell_type": "code",
   "execution_count": 27,
   "metadata": {
    "collapsed": false
   },
   "outputs": [
    {
     "data": {
      "text/plain": [
       "(171378, 4)"
      ]
     },
     "execution_count": 27,
     "metadata": {},
     "output_type": "execute_result"
    }
   ],
   "source": [
    "X.shape"
   ]
  },
  {
   "cell_type": "code",
   "execution_count": 30,
   "metadata": {
    "collapsed": false
   },
   "outputs": [
    {
     "data": {
      "text/plain": [
       "(171378,)"
      ]
     },
     "execution_count": 30,
     "metadata": {},
     "output_type": "execute_result"
    }
   ],
   "source": [
    "Y.shape"
   ]
  },
  {
   "cell_type": "code",
   "execution_count": 31,
   "metadata": {
    "collapsed": false
   },
   "outputs": [
    {
     "data": {
      "text/plain": [
       "(171378, 22)"
      ]
     },
     "execution_count": 31,
     "metadata": {},
     "output_type": "execute_result"
    }
   ],
   "source": [
    "dummy_y.shape"
   ]
  },
  {
   "cell_type": "code",
   "execution_count": 33,
   "metadata": {
    "collapsed": false
   },
   "outputs": [],
   "source": [
    "from sklearn.model_selection import train_test_split\n",
    "X_train, X_test, y_train, y_test = train_test_split(X, dummy_y, test_size=0.2)"
   ]
  },
  {
   "cell_type": "code",
   "execution_count": 34,
   "metadata": {
    "collapsed": false
   },
   "outputs": [
    {
     "data": {
      "text/plain": [
       "(137102, 4)"
      ]
     },
     "execution_count": 34,
     "metadata": {},
     "output_type": "execute_result"
    }
   ],
   "source": [
    "X_train.shape"
   ]
  },
  {
   "cell_type": "code",
   "execution_count": 35,
   "metadata": {
    "collapsed": false
   },
   "outputs": [
    {
     "data": {
      "text/plain": [
       "(137102, 22)"
      ]
     },
     "execution_count": 35,
     "metadata": {},
     "output_type": "execute_result"
    }
   ],
   "source": [
    "y_train.shape"
   ]
  },
  {
   "cell_type": "code",
   "execution_count": 36,
   "metadata": {
    "collapsed": false
   },
   "outputs": [
    {
     "data": {
      "text/plain": [
       "(34276, 4)"
      ]
     },
     "execution_count": 36,
     "metadata": {},
     "output_type": "execute_result"
    }
   ],
   "source": [
    "X_test.shape"
   ]
  },
  {
   "cell_type": "code",
   "execution_count": 37,
   "metadata": {
    "collapsed": false
   },
   "outputs": [
    {
     "data": {
      "text/plain": [
       "(34276, 22)"
      ]
     },
     "execution_count": 37,
     "metadata": {},
     "output_type": "execute_result"
    }
   ],
   "source": [
    "y_test.shape"
   ]
  },
  {
   "cell_type": "code",
   "execution_count": 38,
   "metadata": {
    "collapsed": true
   },
   "outputs": [],
   "source": [
    "from keras.layers import Dropout\n",
    "# create model 2\n",
    "model = Sequential()\n",
    "model.add(Dense(10, input_dim=4, activation='relu'))\n",
    "model.add(Dropout(0.05))\n",
    "model.add(Dense(30,activation='relu'))\n",
    "model.add(Dropout(0.1))\n",
    "model.add(Dense(30,activation='relu'))\n",
    "model.add(Dropout(0.05))\n",
    "model.add(Dense(22, activation='softmax'))"
   ]
  },
  {
   "cell_type": "code",
   "execution_count": 39,
   "metadata": {
    "collapsed": false
   },
   "outputs": [
    {
     "name": "stdout",
     "output_type": "stream",
     "text": [
      "_________________________________________________________________\n",
      "Layer (type)                 Output Shape              Param #   \n",
      "=================================================================\n",
      "dense_1 (Dense)              (None, 10)                50        \n",
      "_________________________________________________________________\n",
      "dropout_1 (Dropout)          (None, 10)                0         \n",
      "_________________________________________________________________\n",
      "dense_2 (Dense)              (None, 30)                330       \n",
      "_________________________________________________________________\n",
      "dropout_2 (Dropout)          (None, 30)                0         \n",
      "_________________________________________________________________\n",
      "dense_3 (Dense)              (None, 30)                930       \n",
      "_________________________________________________________________\n",
      "dropout_3 (Dropout)          (None, 30)                0         \n",
      "_________________________________________________________________\n",
      "dense_4 (Dense)              (None, 22)                682       \n",
      "=================================================================\n",
      "Total params: 1,992\n",
      "Trainable params: 1,992\n",
      "Non-trainable params: 0\n",
      "_________________________________________________________________\n"
     ]
    }
   ],
   "source": [
    "model.summary()"
   ]
  },
  {
   "cell_type": "code",
   "execution_count": 40,
   "metadata": {
    "collapsed": true
   },
   "outputs": [],
   "source": [
    "model.compile(loss='categorical_crossentropy',optimizer='adam',metrics=['accuracy'])"
   ]
  },
  {
   "cell_type": "code",
   "execution_count": 41,
   "metadata": {
    "collapsed": false
   },
   "outputs": [
    {
     "name": "stdout",
     "output_type": "stream",
     "text": [
      "Epoch 1/100\n",
      "137102/137102 [==============================] - 3s - loss: 2.8626 - acc: 0.2189     \n",
      "Epoch 2/100\n",
      "137102/137102 [==============================] - 3s - loss: 2.3319 - acc: 0.2436     \n",
      "Epoch 3/100\n",
      "137102/137102 [==============================] - 3s - loss: 2.3023 - acc: 0.2456     \n",
      "Epoch 4/100\n",
      "137102/137102 [==============================] - 3s - loss: 2.2831 - acc: 0.2460     \n",
      "Epoch 5/100\n",
      "137102/137102 [==============================] - 3s - loss: 2.2693 - acc: 0.2468     \n",
      "Epoch 6/100\n",
      "137102/137102 [==============================] - 3s - loss: 2.2600 - acc: 0.2477     \n",
      "Epoch 7/100\n",
      "137102/137102 [==============================] - 3s - loss: 2.2542 - acc: 0.2484     \n",
      "Epoch 8/100\n",
      "137102/137102 [==============================] - 3s - loss: 2.2505 - acc: 0.2484     \n",
      "Epoch 9/100\n",
      "137102/137102 [==============================] - 3s - loss: 2.2474 - acc: 0.2487     \n",
      "Epoch 10/100\n",
      "137102/137102 [==============================] - 3s - loss: 2.2445 - acc: 0.2493     \n",
      "Epoch 11/100\n",
      "137102/137102 [==============================] - 3s - loss: 2.2402 - acc: 0.2509     \n",
      "Epoch 12/100\n",
      "137102/137102 [==============================] - 3s - loss: 2.2369 - acc: 0.2522     \n",
      "Epoch 13/100\n",
      "137102/137102 [==============================] - 3s - loss: 2.2324 - acc: 0.2551     \n",
      "Epoch 14/100\n",
      "137102/137102 [==============================] - 3s - loss: 2.2295 - acc: 0.2559     \n",
      "Epoch 15/100\n",
      "137102/137102 [==============================] - 3s - loss: 2.2269 - acc: 0.2563     \n",
      "Epoch 16/100\n",
      "137102/137102 [==============================] - 3s - loss: 2.2230 - acc: 0.2598     \n",
      "Epoch 17/100\n",
      "137102/137102 [==============================] - 3s - loss: 2.2209 - acc: 0.2594     \n",
      "Epoch 18/100\n",
      "137102/137102 [==============================] - 3s - loss: 2.2182 - acc: 0.2601     \n",
      "Epoch 19/100\n",
      "137102/137102 [==============================] - 3s - loss: 2.2165 - acc: 0.2609     \n",
      "Epoch 20/100\n",
      "137102/137102 [==============================] - 3s - loss: 2.2131 - acc: 0.2625     \n",
      "Epoch 21/100\n",
      "137102/137102 [==============================] - 3s - loss: 2.2103 - acc: 0.2640     \n",
      "Epoch 22/100\n",
      "137102/137102 [==============================] - 3s - loss: 2.2079 - acc: 0.2641     \n",
      "Epoch 23/100\n",
      "137102/137102 [==============================] - 3s - loss: 2.2060 - acc: 0.2652     \n",
      "Epoch 24/100\n",
      "137102/137102 [==============================] - 3s - loss: 2.2043 - acc: 0.2645     \n",
      "Epoch 25/100\n",
      "137102/137102 [==============================] - 3s - loss: 2.2033 - acc: 0.2650     \n",
      "Epoch 26/100\n",
      "137102/137102 [==============================] - 3s - loss: 2.2022 - acc: 0.2656     \n",
      "Epoch 27/100\n",
      "137102/137102 [==============================] - 3s - loss: 2.2006 - acc: 0.2651     \n",
      "Epoch 28/100\n",
      "137102/137102 [==============================] - 3s - loss: 2.1981 - acc: 0.2660     \n",
      "Epoch 29/100\n",
      "137102/137102 [==============================] - 3s - loss: 2.1988 - acc: 0.2660     \n",
      "Epoch 30/100\n",
      "137102/137102 [==============================] - 3s - loss: 2.1980 - acc: 0.2668     \n",
      "Epoch 31/100\n",
      "137102/137102 [==============================] - 3s - loss: 2.1975 - acc: 0.2665     \n",
      "Epoch 32/100\n",
      "137102/137102 [==============================] - 3s - loss: 2.1950 - acc: 0.2667     \n",
      "Epoch 33/100\n",
      "137102/137102 [==============================] - 3s - loss: 2.1959 - acc: 0.2671     \n",
      "Epoch 34/100\n",
      "137102/137102 [==============================] - 3s - loss: 2.1951 - acc: 0.2663     \n",
      "Epoch 35/100\n",
      "137102/137102 [==============================] - 3s - loss: 2.1943 - acc: 0.2671     \n",
      "Epoch 36/100\n",
      "137102/137102 [==============================] - 3s - loss: 2.1933 - acc: 0.2679     \n",
      "Epoch 37/100\n",
      "137102/137102 [==============================] - 3s - loss: 2.1948 - acc: 0.2670     \n",
      "Epoch 38/100\n",
      "137102/137102 [==============================] - 3s - loss: 2.1929 - acc: 0.2680     \n",
      "Epoch 39/100\n",
      "137102/137102 [==============================] - 3s - loss: 2.1934 - acc: 0.2676     \n",
      "Epoch 40/100\n",
      "137102/137102 [==============================] - 3s - loss: 2.1919 - acc: 0.2685     \n",
      "Epoch 41/100\n",
      "137102/137102 [==============================] - 3s - loss: 2.1928 - acc: 0.2669     \n",
      "Epoch 42/100\n",
      "137102/137102 [==============================] - 3s - loss: 2.1908 - acc: 0.2684     \n",
      "Epoch 43/100\n",
      "137102/137102 [==============================] - 3s - loss: 2.1898 - acc: 0.2694     \n",
      "Epoch 44/100\n",
      "137102/137102 [==============================] - 3s - loss: 2.1900 - acc: 0.2684     \n",
      "Epoch 45/100\n",
      "137102/137102 [==============================] - 3s - loss: 2.1907 - acc: 0.2680     \n",
      "Epoch 46/100\n",
      "137102/137102 [==============================] - 3s - loss: 2.1891 - acc: 0.2687     \n",
      "Epoch 47/100\n",
      "137102/137102 [==============================] - 3s - loss: 2.1886 - acc: 0.2686     \n",
      "Epoch 48/100\n",
      "137102/137102 [==============================] - 3s - loss: 2.1890 - acc: 0.2676     \n",
      "Epoch 49/100\n",
      "137102/137102 [==============================] - 3s - loss: 2.1886 - acc: 0.2684     \n",
      "Epoch 50/100\n",
      "137102/137102 [==============================] - 3s - loss: 2.1892 - acc: 0.2682     \n",
      "Epoch 51/100\n",
      "137102/137102 [==============================] - 3s - loss: 2.1884 - acc: 0.2696     \n",
      "Epoch 52/100\n",
      "137102/137102 [==============================] - 3s - loss: 2.1894 - acc: 0.2686     \n",
      "Epoch 53/100\n",
      "137102/137102 [==============================] - 3s - loss: 2.1873 - acc: 0.2703     \n",
      "Epoch 54/100\n",
      "137102/137102 [==============================] - 3s - loss: 2.1881 - acc: 0.2687     \n",
      "Epoch 55/100\n",
      "137102/137102 [==============================] - 3s - loss: 2.1882 - acc: 0.2692     \n",
      "Epoch 56/100\n",
      "137102/137102 [==============================] - 3s - loss: 2.1879 - acc: 0.2700     \n",
      "Epoch 57/100\n",
      "137102/137102 [==============================] - 3s - loss: 2.1876 - acc: 0.2693     \n",
      "Epoch 58/100\n",
      "137102/137102 [==============================] - 3s - loss: 2.1874 - acc: 0.2695     \n",
      "Epoch 59/100\n",
      "137102/137102 [==============================] - 3s - loss: 2.1849 - acc: 0.2696     \n",
      "Epoch 60/100\n",
      "137102/137102 [==============================] - 3s - loss: 2.1869 - acc: 0.2702     \n",
      "Epoch 61/100\n",
      "137102/137102 [==============================] - 3s - loss: 2.1865 - acc: 0.2701     \n",
      "Epoch 62/100\n",
      "137102/137102 [==============================] - 3s - loss: 2.1874 - acc: 0.2696     \n",
      "Epoch 63/100\n",
      "137102/137102 [==============================] - 3s - loss: 2.1856 - acc: 0.2693     \n",
      "Epoch 64/100\n",
      "137102/137102 [==============================] - 3s - loss: 2.1854 - acc: 0.2700     \n",
      "Epoch 65/100\n",
      "137102/137102 [==============================] - 3s - loss: 2.1853 - acc: 0.2694     \n",
      "Epoch 66/100\n",
      "137102/137102 [==============================] - 3s - loss: 2.1851 - acc: 0.2691     \n",
      "Epoch 67/100\n",
      "137102/137102 [==============================] - 3s - loss: 2.1848 - acc: 0.2703     \n",
      "Epoch 68/100\n",
      "137102/137102 [==============================] - 3s - loss: 2.1844 - acc: 0.2701     \n",
      "Epoch 69/100\n",
      "137102/137102 [==============================] - 3s - loss: 2.1845 - acc: 0.2694     \n",
      "Epoch 70/100\n",
      "137102/137102 [==============================] - 3s - loss: 2.1840 - acc: 0.2688     \n",
      "Epoch 71/100\n",
      "137102/137102 [==============================] - 3s - loss: 2.1849 - acc: 0.2703     \n",
      "Epoch 72/100\n",
      "137102/137102 [==============================] - 3s - loss: 2.1839 - acc: 0.2699     \n",
      "Epoch 73/100\n",
      "137102/137102 [==============================] - 2s - loss: 2.1847 - acc: 0.2691     \n",
      "Epoch 74/100\n",
      "137102/137102 [==============================] - 3s - loss: 2.1842 - acc: 0.2698     \n",
      "Epoch 75/100\n",
      "137102/137102 [==============================] - 2s - loss: 2.1842 - acc: 0.2700     \n",
      "Epoch 76/100\n",
      "137102/137102 [==============================] - 3s - loss: 2.1843 - acc: 0.2692     \n",
      "Epoch 77/100\n",
      "137102/137102 [==============================] - 3s - loss: 2.1851 - acc: 0.2686     \n",
      "Epoch 78/100\n",
      "137102/137102 [==============================] - 4s - loss: 2.1842 - acc: 0.2694     \n",
      "Epoch 79/100\n",
      "137102/137102 [==============================] - 3s - loss: 2.1849 - acc: 0.2698     \n",
      "Epoch 80/100\n",
      "137102/137102 [==============================] - 3s - loss: 2.1837 - acc: 0.2703     \n",
      "Epoch 81/100\n",
      "137102/137102 [==============================] - 3s - loss: 2.1850 - acc: 0.2703     \n",
      "Epoch 82/100\n",
      "137102/137102 [==============================] - 3s - loss: 2.1827 - acc: 0.2708     \n",
      "Epoch 83/100\n",
      "137102/137102 [==============================] - 3s - loss: 2.1823 - acc: 0.2698     \n",
      "Epoch 84/100\n",
      "137102/137102 [==============================] - 3s - loss: 2.1840 - acc: 0.2697     \n",
      "Epoch 85/100\n",
      "137102/137102 [==============================] - 3s - loss: 2.1847 - acc: 0.2696     \n",
      "Epoch 86/100\n",
      "137102/137102 [==============================] - 3s - loss: 2.1829 - acc: 0.2700     \n",
      "Epoch 87/100\n",
      "137102/137102 [==============================] - 3s - loss: 2.1847 - acc: 0.2698     \n",
      "Epoch 88/100\n",
      "137102/137102 [==============================] - 3s - loss: 2.1830 - acc: 0.2704     \n",
      "Epoch 89/100\n",
      "137102/137102 [==============================] - 4s - loss: 2.1817 - acc: 0.2715     \n",
      "Epoch 90/100\n",
      "137102/137102 [==============================] - 4s - loss: 2.1859 - acc: 0.2680     \n",
      "Epoch 91/100\n",
      "137102/137102 [==============================] - 4s - loss: 2.1816 - acc: 0.2707     \n",
      "Epoch 92/100\n",
      "137102/137102 [==============================] - 3s - loss: 2.1826 - acc: 0.2697     \n",
      "Epoch 93/100\n",
      "137102/137102 [==============================] - 3s - loss: 2.1829 - acc: 0.2703     \n",
      "Epoch 94/100\n",
      "137102/137102 [==============================] - 4s - loss: 2.1826 - acc: 0.2706     \n",
      "Epoch 95/100\n",
      "137102/137102 [==============================] - 3s - loss: 2.1817 - acc: 0.2699     \n",
      "Epoch 96/100\n",
      "137102/137102 [==============================] - 4s - loss: 2.1822 - acc: 0.2701     \n",
      "Epoch 97/100\n",
      "137102/137102 [==============================] - 4s - loss: 2.1824 - acc: 0.2705     \n",
      "Epoch 98/100\n",
      "137102/137102 [==============================] - 4s - loss: 2.1819 - acc: 0.2702     \n",
      "Epoch 99/100\n",
      "137102/137102 [==============================] - 3s - loss: 2.1825 - acc: 0.2698     \n",
      "Epoch 100/100\n",
      "137102/137102 [==============================] - 3s - loss: 2.1827 - acc: 0.2709     \n"
     ]
    },
    {
     "data": {
      "text/plain": [
       "<keras.callbacks.History at 0x7f06c24539e8>"
      ]
     },
     "execution_count": 41,
     "metadata": {},
     "output_type": "execute_result"
    }
   ],
   "source": [
    "model.fit(X_train,y_train,epochs=100,batch_size=100)"
   ]
  },
  {
   "cell_type": "code",
   "execution_count": 42,
   "metadata": {
    "collapsed": false
   },
   "outputs": [
    {
     "name": "stdout",
     "output_type": "stream",
     "text": [
      "Test loss: 2.17873042055\n",
      "Test accuracy: 0.273398296184\n"
     ]
    }
   ],
   "source": [
    "score = model.evaluate(X_test,y_test, verbose=0)\n",
    "print('Test loss:', score[0])\n",
    "print('Test accuracy:', score[1])"
   ]
  },
  {
   "cell_type": "code",
   "execution_count": null,
   "metadata": {
    "collapsed": true
   },
   "outputs": [],
   "source": []
  }
 ],
 "metadata": {
  "anaconda-cloud": {},
  "kernelspec": {
   "display_name": "Python 3",
   "language": "python",
   "name": "python3"
  },
  "language_info": {
   "codemirror_mode": {
    "name": "ipython",
    "version": 3
   },
   "file_extension": ".py",
   "mimetype": "text/x-python",
   "name": "python",
   "nbconvert_exporter": "python",
   "pygments_lexer": "ipython3",
   "version": "3.5.2"
  }
 },
 "nbformat": 4,
 "nbformat_minor": 1
}
